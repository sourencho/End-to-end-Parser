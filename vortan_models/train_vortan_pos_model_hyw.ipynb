{
  "nbformat": 4,
  "nbformat_minor": 0,
  "metadata": {
    "accelerator": "GPU",
    "colab": {
      "name": "Copy of end_to_end_parser_vortan_trian.ipynb",
      "provenance": [],
      "collapsed_sections": []
    },
    "kernelspec": {
      "display_name": "Python 3",
      "name": "python3"
    },
    "language_info": {
      "name": "python"
    }
  },
  "cells": [
    {
      "cell_type": "code",
      "metadata": {
        "colab": {
          "base_uri": "https://localhost:8080/"
        },
        "id": "QEAwa537H4Cd",
        "outputId": "96318cf2-c70b-4b8d-89f3-2e7b448eca2c"
      },
      "source": [
        "from google.colab import drive\n",
        "drive.mount('/content/gdrive')"
      ],
      "execution_count": 1,
      "outputs": [
        {
          "output_type": "stream",
          "name": "stdout",
          "text": [
            "Mounted at /content/gdrive\n"
          ]
        }
      ]
    },
    {
      "cell_type": "code",
      "metadata": {
        "colab": {
          "base_uri": "https://localhost:8080/"
        },
        "id": "N_mIPh8UOV6E",
        "outputId": "0efa4cc2-d49b-4bce-91f4-2c859e7fa344"
      },
      "source": [
        "%tensorflow_version 2.x\n",
        "import tensorflow as tf\n",
        "import timeit\n",
        "\n",
        "device_name = tf.test.gpu_device_name()\n",
        "if device_name != '/device:GPU:0':\n",
        "  print(\n",
        "      '\\n\\nThis error most likely means that this notebook is not '\n",
        "      'configured to use a GPU.  Change this in Notebook Settings via the '\n",
        "      'command palette (cmd/ctrl-shift-P) or the Edit menu.\\n\\n')\n",
        "  raise SystemError('GPU device not found')\n",
        "\n",
        "def cpu():\n",
        "  with tf.device('/cpu:0'):\n",
        "    random_image_cpu = tf.random.normal((100, 100, 100, 3))\n",
        "    net_cpu = tf.keras.layers.Conv2D(32, 7)(random_image_cpu)\n",
        "    return tf.math.reduce_sum(net_cpu)\n",
        "\n",
        "def gpu():\n",
        "  with tf.device('/device:GPU:0'):\n",
        "    random_image_gpu = tf.random.normal((100, 100, 100, 3))\n",
        "    net_gpu = tf.keras.layers.Conv2D(32, 7)(random_image_gpu)\n",
        "    return tf.math.reduce_sum(net_gpu)\n",
        "  \n",
        "# We run each op once to warm up; see: https://stackoverflow.com/a/45067900\n",
        "cpu()\n",
        "gpu()\n",
        "\n",
        "# Run the op several times.\n",
        "print('Time (s) to convolve 32x7x7x3 filter over random 100x100x100x3 images '\n",
        "      '(batch x height x width x channel). Sum of ten runs.')\n",
        "print('CPU (s):')\n",
        "cpu_time = timeit.timeit('cpu()', number=10, setup=\"from __main__ import cpu\")\n",
        "print(cpu_time)\n",
        "print('GPU (s):')\n",
        "gpu_time = timeit.timeit('gpu()', number=10, setup=\"from __main__ import gpu\")\n",
        "print(gpu_time)\n",
        "print('GPU speedup over CPU: {}x'.format(int(cpu_time/gpu_time)))"
      ],
      "execution_count": 2,
      "outputs": [
        {
          "output_type": "stream",
          "name": "stdout",
          "text": [
            "Time (s) to convolve 32x7x7x3 filter over random 100x100x100x3 images (batch x height x width x channel). Sum of ten runs.\n",
            "CPU (s):\n",
            "3.664987709000002\n",
            "GPU (s):\n",
            "0.04687893100003748\n",
            "GPU speedup over CPU: 78x\n"
          ]
        }
      ]
    },
    {
      "cell_type": "code",
      "metadata": {
        "colab": {
          "base_uri": "https://localhost:8080/"
        },
        "id": "EhFLo0_tH4a0",
        "outputId": "6854fb3f-42a7-4765-c979-57349fdc20c2"
      },
      "source": [
        "%cd /content/gdrive/My Drive/code/vortan"
      ],
      "execution_count": 3,
      "outputs": [
        {
          "output_type": "stream",
          "name": "stdout",
          "text": [
            "/content/gdrive/My Drive/code/vortan\n"
          ]
        }
      ]
    },
    {
      "cell_type": "code",
      "metadata": {
        "colab": {
          "base_uri": "https://localhost:8080/"
        },
        "id": "zCMB2LOYIE-G",
        "outputId": "8266a212-e68c-4938-9f4b-006aec196d7b"
      },
      "source": [
        "! ls\n"
      ],
      "execution_count": 4,
      "outputs": [
        {
          "output_type": "stream",
          "name": "stdout",
          "text": [
            "End-to-end-Parser  UD_Armenian-ArmTDP\n"
          ]
        }
      ]
    },
    {
      "cell_type": "code",
      "metadata": {
        "colab": {
          "base_uri": "https://localhost:8080/"
        },
        "id": "Vt-t6oopIKDd",
        "outputId": "06984482-07f6-4f05-9137-5b57dedfa4a3"
      },
      "source": [
        "! git clone https://github.com/sourencho/End-to-end-Parser\n"
      ],
      "execution_count": null,
      "outputs": [
        {
          "name": "stdout",
          "output_type": "stream",
          "text": [
            "fatal: destination path 'End-to-end-Parser' already exists and is not an empty directory.\n"
          ]
        }
      ]
    },
    {
      "cell_type": "code",
      "metadata": {
        "colab": {
          "base_uri": "https://localhost:8080/"
        },
        "id": "NoHv3gzHKOVB",
        "outputId": "34bbdd4c-827a-416b-b4fa-d924dab75c81"
      },
      "source": [
        "! git pull"
      ],
      "execution_count": 5,
      "outputs": [
        {
          "output_type": "stream",
          "name": "stdout",
          "text": [
            "fatal: not a git repository (or any parent up to mount point /content)\n",
            "Stopping at filesystem boundary (GIT_DISCOVERY_ACROSS_FILESYSTEM not set).\n"
          ]
        }
      ]
    },
    {
      "cell_type": "code",
      "metadata": {
        "colab": {
          "base_uri": "https://localhost:8080/"
        },
        "id": "ZwJg2-jKInib",
        "outputId": "ef10e628-78a7-416e-9651-d35868433317"
      },
      "source": [
        "%cd End-to-end-Parser/"
      ],
      "execution_count": 6,
      "outputs": [
        {
          "output_type": "stream",
          "name": "stdout",
          "text": [
            "/content/gdrive/My Drive/code/vortan/End-to-end-Parser\n"
          ]
        }
      ]
    },
    {
      "cell_type": "code",
      "metadata": {
        "colab": {
          "base_uri": "https://localhost:8080/"
        },
        "id": "7UzcD4FtIwdw",
        "outputId": "e3b4f634-d21a-4917-c19e-bd5a6035c163"
      },
      "source": [
        "! ls"
      ],
      "execution_count": 7,
      "outputs": [
        {
          "output_type": "stream",
          "name": "stdout",
          "text": [
            "application.py\tpredict.py  requirements.txt  test_text.txt\n",
            "COMBO\t\tProcfile    static\t      Tokenizer\n",
            "model.pkl\tREADME.md   test_out.txt\n"
          ]
        }
      ]
    },
    {
      "cell_type": "code",
      "metadata": {
        "colab": {
          "base_uri": "https://localhost:8080/"
        },
        "id": "ZT72waR8Ixb8",
        "outputId": "d3924199-39e5-4793-b5b1-756689eada8b"
      },
      "source": [
        "! pip install -r requirements.txt"
      ],
      "execution_count": null,
      "outputs": [
        {
          "name": "stdout",
          "output_type": "stream",
          "text": [
            "Requirement already satisfied: gunicorn==19.9.0 in /usr/local/lib/python3.7/dist-packages (from -r requirements.txt (line 1)) (19.9.0)\n",
            "Requirement already satisfied: fire==0.1.3 in /usr/local/lib/python3.7/dist-packages (from -r requirements.txt (line 2)) (0.1.3)\n",
            "Requirement already satisfied: h5py==2.8.0 in /usr/local/lib/python3.7/dist-packages (from -r requirements.txt (line 3)) (2.8.0)\n",
            "Requirement already satisfied: Keras==2.2.4 in /usr/local/lib/python3.7/dist-packages (from -r requirements.txt (line 4)) (2.2.4)\n",
            "Requirement already satisfied: numpy==1.15.4 in /usr/local/lib/python3.7/dist-packages (from -r requirements.txt (line 5)) (1.15.4)\n",
            "Requirement already satisfied: scikit-learn==0.20.1 in /usr/local/lib/python3.7/dist-packages (from -r requirements.txt (line 6)) (0.20.1)\n",
            "Requirement already satisfied: scipy==1.1.0 in /usr/local/lib/python3.7/dist-packages (from -r requirements.txt (line 7)) (1.1.0)\n",
            "Requirement already satisfied: Werkzeug==0.14.1 in /usr/local/lib/python3.7/dist-packages (from -r requirements.txt (line 8)) (0.14.1)\n",
            "Requirement already satisfied: flask==1.0.2 in /usr/local/lib/python3.7/dist-packages (from -r requirements.txt (line 9)) (1.0.2)\n",
            "Requirement already satisfied: six in /usr/local/lib/python3.7/dist-packages (from fire==0.1.3->-r requirements.txt (line 2)) (1.15.0)\n",
            "Requirement already satisfied: keras-applications>=1.0.6 in /usr/local/lib/python3.7/dist-packages (from Keras==2.2.4->-r requirements.txt (line 4)) (1.0.8)\n",
            "Requirement already satisfied: keras-preprocessing>=1.0.5 in /usr/local/lib/python3.7/dist-packages (from Keras==2.2.4->-r requirements.txt (line 4)) (1.1.2)\n",
            "Requirement already satisfied: pyyaml in /usr/local/lib/python3.7/dist-packages (from Keras==2.2.4->-r requirements.txt (line 4)) (3.13)\n",
            "Requirement already satisfied: click>=5.1 in /usr/local/lib/python3.7/dist-packages (from flask==1.0.2->-r requirements.txt (line 9)) (7.1.2)\n",
            "Requirement already satisfied: Jinja2>=2.10 in /usr/local/lib/python3.7/dist-packages (from flask==1.0.2->-r requirements.txt (line 9)) (2.11.3)\n",
            "Requirement already satisfied: itsdangerous>=0.24 in /usr/local/lib/python3.7/dist-packages (from flask==1.0.2->-r requirements.txt (line 9)) (1.1.0)\n",
            "Requirement already satisfied: MarkupSafe>=0.23 in /usr/local/lib/python3.7/dist-packages (from Jinja2>=2.10->flask==1.0.2->-r requirements.txt (line 9)) (2.0.1)\n"
          ]
        }
      ]
    },
    {
      "cell_type": "code",
      "metadata": {
        "colab": {
          "base_uri": "https://localhost:8080/"
        },
        "id": "BJ_c4RbgI1m-",
        "outputId": "cf602ff1-8929-49ca-d92f-10153f6cc9ea"
      },
      "source": [
        "%cd COMBO/"
      ],
      "execution_count": 8,
      "outputs": [
        {
          "output_type": "stream",
          "name": "stdout",
          "text": [
            "/content/gdrive/My Drive/code/vortan/End-to-end-Parser/COMBO\n"
          ]
        }
      ]
    },
    {
      "cell_type": "code",
      "metadata": {
        "colab": {
          "base_uri": "https://localhost:8080/"
        },
        "id": "jQP-IF6MJFRv",
        "outputId": "f16e12f3-4c02-405d-c070-392dc7431344"
      },
      "source": [
        "! git clone https://github.com/UniversalDependencies/UD_Armenian-ArmTDP\n"
      ],
      "execution_count": 9,
      "outputs": [
        {
          "output_type": "stream",
          "name": "stdout",
          "text": [
            "fatal: destination path 'UD_Armenian-ArmTDP' already exists and is not an empty directory.\n"
          ]
        }
      ]
    },
    {
      "cell_type": "code",
      "metadata": {
        "colab": {
          "base_uri": "https://localhost:8080/"
        },
        "id": "-wiFTu7xetbo",
        "outputId": "f703011b-d237-4e14-c9b0-362d5d844ada"
      },
      "source": [
        "! git clone https://github.com/UniversalDependencies/UD_Western_Armenian-ArmTDP"
      ],
      "execution_count": 10,
      "outputs": [
        {
          "output_type": "stream",
          "name": "stdout",
          "text": [
            "Cloning into 'UD_Western_Armenian-ArmTDP'...\n",
            "remote: Enumerating objects: 55, done.\u001b[K\n",
            "remote: Counting objects: 100% (55/55), done.\u001b[K\n",
            "remote: Compressing objects: 100% (52/52), done.\u001b[K\n",
            "remote: Total 55 (delta 29), reused 8 (delta 1), pack-reused 0\u001b[K\n",
            "Unpacking objects: 100% (55/55), done.\n"
          ]
        }
      ]
    },
    {
      "cell_type": "code",
      "metadata": {
        "colab": {
          "base_uri": "https://localhost:8080/"
        },
        "id": "LqzRKAi1JYj-",
        "outputId": "d912bdf4-26be-4020-f4cf-e966f218f1ab"
      },
      "source": [
        "! python3 -m src.main \\\n",
        "    --mode autotrain \\\n",
        "    --train UD_Western_Armenian-ArmTDP/hyw_armtdp-ud-train.conllu \\\n",
        "    --valid UD_Western_Armenian-ArmTDP/hyw_armtdp-ud-test.conllu \\\n",
        "    --model souren_model.pkl \\\n",
        "    --force_trees \\\n",
        "    --epochs 30\n"
      ],
      "execution_count": 11,
      "outputs": [
        {
          "output_type": "stream",
          "name": "stdout",
          "text": [
            "2021-09-01 03:51:17.045701: I tensorflow/stream_executor/cuda/cuda_gpu_executor.cc:937] successful NUMA node read from SysFS had negative value (-1), but there must be at least one NUMA node, so returning NUMA node zero\n",
            "2021-09-01 03:51:17.070266: I tensorflow/stream_executor/cuda/cuda_gpu_executor.cc:937] successful NUMA node read from SysFS had negative value (-1), but there must be at least one NUMA node, so returning NUMA node zero\n",
            "2021-09-01 03:51:17.071092: I tensorflow/stream_executor/cuda/cuda_gpu_executor.cc:937] successful NUMA node read from SysFS had negative value (-1), but there must be at least one NUMA node, so returning NUMA node zero\n",
            "2021-09-01 03:51:17.528422: I tensorflow/stream_executor/cuda/cuda_gpu_executor.cc:937] successful NUMA node read from SysFS had negative value (-1), but there must be at least one NUMA node, so returning NUMA node zero\n",
            "2021-09-01 03:51:17.529269: I tensorflow/stream_executor/cuda/cuda_gpu_executor.cc:937] successful NUMA node read from SysFS had negative value (-1), but there must be at least one NUMA node, so returning NUMA node zero\n",
            "2021-09-01 03:51:17.530031: I tensorflow/stream_executor/cuda/cuda_gpu_executor.cc:937] successful NUMA node read from SysFS had negative value (-1), but there must be at least one NUMA node, so returning NUMA node zero\n",
            "2021-09-01 03:51:17.530718: W tensorflow/core/common_runtime/gpu/gpu_bfc_allocator.cc:39] Overriding allow_growth setting because the TF_FORCE_GPU_ALLOW_GROWTH environment variable is set. Original config value was 0.\n",
            "2021-09-01 03:51:17.530795: I tensorflow/core/common_runtime/gpu/gpu_device.cc:1510] Created device /job:localhost/replica:0/task:0/device:GPU:0 with 9490 MB memory:  -> device: 0, name: Tesla K80, pci bus id: 0000:00:04.0, compute capability: 3.7\n",
            "WARNING:tensorflow:From /content/gdrive/My Drive/code/vortan/End-to-end-Parser/COMBO/src/main.py:18: The name tf.keras.backend.set_session is deprecated. Please use tf.compat.v1.keras.backend.set_session instead.\n",
            "\n",
            "Load train data 2021-09-01 03:51:19\n",
            "Load valid data 2021-09-01 03:51:20\n",
            "Start training 2021-09-01 03:51:20\n",
            "Initiate model 2021-09-01 03:51:20\n",
            "Initiate model 2021-09-01 03:51:20\n",
            "Train iter 0 2021-09-01 03:51:20\n",
            "2021-09-01 03:51:20.444796: I tensorflow/stream_executor/cuda/cuda_gpu_executor.cc:937] successful NUMA node read from SysFS had negative value (-1), but there must be at least one NUMA node, so returning NUMA node zero\n",
            "2021-09-01 03:51:20.445638: I tensorflow/stream_executor/cuda/cuda_gpu_executor.cc:937] successful NUMA node read from SysFS had negative value (-1), but there must be at least one NUMA node, so returning NUMA node zero\n",
            "2021-09-01 03:51:20.446336: I tensorflow/stream_executor/cuda/cuda_gpu_executor.cc:937] successful NUMA node read from SysFS had negative value (-1), but there must be at least one NUMA node, so returning NUMA node zero\n",
            "2021-09-01 03:51:20.447260: I tensorflow/stream_executor/cuda/cuda_gpu_executor.cc:937] successful NUMA node read from SysFS had negative value (-1), but there must be at least one NUMA node, so returning NUMA node zero\n",
            "2021-09-01 03:51:20.448108: I tensorflow/stream_executor/cuda/cuda_gpu_executor.cc:937] successful NUMA node read from SysFS had negative value (-1), but there must be at least one NUMA node, so returning NUMA node zero\n",
            "2021-09-01 03:51:20.448872: I tensorflow/stream_executor/cuda/cuda_gpu_executor.cc:937] successful NUMA node read from SysFS had negative value (-1), but there must be at least one NUMA node, so returning NUMA node zero\n",
            "2021-09-01 03:51:20.449688: I tensorflow/stream_executor/cuda/cuda_gpu_executor.cc:937] successful NUMA node read from SysFS had negative value (-1), but there must be at least one NUMA node, so returning NUMA node zero\n",
            "2021-09-01 03:51:20.450470: I tensorflow/stream_executor/cuda/cuda_gpu_executor.cc:937] successful NUMA node read from SysFS had negative value (-1), but there must be at least one NUMA node, so returning NUMA node zero\n",
            "2021-09-01 03:51:20.451241: I tensorflow/core/common_runtime/gpu/gpu_device.cc:1510] Created device /job:localhost/replica:0/task:0/device:GPU:0 with 9490 MB memory:  -> device: 0, name: Tesla K80, pci bus id: 0000:00:04.0, compute capability: 3.7\n",
            "/usr/local/lib/python3.7/dist-packages/keras/optimizer_v2/optimizer_v2.py:356: UserWarning: The `lr` argument is deprecated, use `learning_rate` instead.\n",
            "  \"The `lr` argument is deprecated, use `learning_rate` instead.\")\n",
            "2021-09-01 03:51:39.331014: I tensorflow/compiler/mlir/mlir_graph_optimization_pass.cc:185] None of the MLIR Optimization Passes are enabled (registered 2)\n",
            "2021-09-01 03:51:43.149258: I tensorflow/stream_executor/cuda/cuda_dnn.cc:369] Loaded cuDNN version 8004\n",
            "0 0 [('loss', 42.63105010986328), ('head_loss', 20.758296966552734), ('deprel_loss', 12.406937599182129), ('lemma_loss', 17.776460647583008), ('upostag_loss', 9.254585266113281), ('feats_loss', 135.94085693359375)]\n",
            "0 1 [('loss', 42.53639221191406), ('head_loss', 17.710372924804688), ('deprel_loss', 12.766651153564453), ('lemma_loss', 16.334850311279297), ('upostag_loss', 9.558220863342285), ('feats_loss', 137.3627471923828)]\n",
            "0 2 [('loss', 27.075828552246094), ('head_loss', 12.0921630859375), ('deprel_loss', 8.767693519592285), ('lemma_loss', 8.387704849243164), ('upostag_loss', 6.820417881011963), ('feats_loss', 84.34625244140625)]\n",
            "0 3 [('loss', 43.65660858154297), ('head_loss', 37.021610260009766), ('deprel_loss', 23.097551345825195), ('lemma_loss', 9.639320373535156), ('upostag_loss', 9.656085968017578), ('feats_loss', 83.94104766845703)]\n",
            "0 4 [('loss', 38.88875961303711), ('head_loss', 62.922122955322266), ('deprel_loss', 13.036972045898438), ('lemma_loss', 5.091780185699463), ('upostag_loss', 9.046310424804688), ('feats_loss', 75.65543365478516)]\n",
            "0 5 [('loss', 29.74156951904297), ('head_loss', 37.95836639404297), ('deprel_loss', 12.569644927978516), ('lemma_loss', 3.621049404144287), ('upostag_loss', 7.434467315673828), ('feats_loss', 57.614830017089844)]\n",
            "0 6 [('loss', 15.571385383605957), ('head_loss', 17.743919372558594), ('deprel_loss', 7.061126232147217), ('lemma_loss', 1.7641568183898926), ('upostag_loss', 4.169101715087891), ('feats_loss', 30.312883377075195)]\n",
            "1 0 [('loss', 36.778263092041016), ('head_loss', 65.62108612060547), ('deprel_loss', 14.387592315673828), ('lemma_loss', 3.1860482692718506), ('upostag_loss', 8.592002868652344), ('feats_loss', 57.61849594116211)]\n",
            "1 1 [('loss', 26.674468994140625), ('head_loss', 39.81287384033203), ('deprel_loss', 11.033517837524414), ('lemma_loss', 3.0720815658569336), ('upostag_loss', 7.184150695800781), ('feats_loss', 46.775516510009766)]\n",
            "1 2 [('loss', 30.185131072998047), ('head_loss', 45.20262145996094), ('deprel_loss', 12.280123710632324), ('lemma_loss', 3.479771137237549), ('upostag_loss', 8.493143081665039), ('feats_loss', 53.513607025146484)]\n",
            "1 3 [('loss', 19.7669677734375), ('head_loss', 25.383052825927734), ('deprel_loss', 8.306507110595703), ('lemma_loss', 2.5373435020446777), ('upostag_loss', 6.204139232635498), ('feats_loss', 37.965091705322266)]\n",
            "1 4 [('loss', 35.35197448730469), ('head_loss', 23.67711639404297), ('deprel_loss', 11.971014022827148), ('lemma_loss', 3.472687005996704), ('upostag_loss', 8.781645774841309), ('feats_loss', 102.05997467041016)]\n",
            "1 5 [('loss', 28.204565048217773), ('head_loss', 45.67706298828125), ('deprel_loss', 11.002193450927734), ('lemma_loss', 2.929349899291992), ('upostag_loss', 8.2901611328125), ('feats_loss', 48.44255447387695)]\n",
            "1 6 [('loss', 12.278369903564453), ('head_loss', 15.925802230834961), ('deprel_loss', 5.060633182525635), ('lemma_loss', 1.3936784267425537), ('upostag_loss', 3.8672025203704834), ('feats_loss', 23.838178634643555)]\n",
            "2 0 [('loss', 28.56681251525879), ('head_loss', 48.84287643432617), ('deprel_loss', 10.894768714904785), ('lemma_loss', 2.7599401473999023), ('upostag_loss', 8.142927169799805), ('feats_loss', 47.59437942504883)]\n",
            "2 1 [('loss', 29.95201873779297), ('head_loss', 55.728397369384766), ('deprel_loss', 10.93796443939209), ('lemma_loss', 2.547489643096924), ('upostag_loss', 7.995987415313721), ('feats_loss', 47.538204193115234)]\n",
            "2 2 [('loss', 19.537322998046875), ('head_loss', 27.339994430541992), ('deprel_loss', 8.074932098388672), ('lemma_loss', 2.0699515342712402), ('upostag_loss', 6.126655101776123), ('feats_loss', 35.922698974609375)]\n",
            "2 3 [('loss', 25.545238494873047), ('head_loss', 36.14749526977539), ('deprel_loss', 10.665105819702148), ('lemma_loss', 2.85489559173584), ('upostag_loss', 7.957842826843262), ('feats_loss', 46.132774353027344)]\n",
            "2 4 [('loss', 26.478134155273438), ('head_loss', 37.41908645629883), ('deprel_loss', 11.024198532104492), ('lemma_loss', 2.695291757583618), ('upostag_loss', 8.255561828613281), ('feats_loss', 48.05002212524414)]\n",
            "2 5 [('loss', 11.729818344116211), ('head_loss', 13.611734390258789), ('deprel_loss', 5.109624862670898), ('lemma_loss', 0.9470884203910828), ('upostag_loss', 3.916266679763794), ('feats_loss', 23.311063766479492)]\n",
            "2 6 [('loss', 20.903636932373047), ('head_loss', 25.106693267822266), ('deprel_loss', 9.21829605102539), ('lemma_loss', 2.1272027492523193), ('upostag_loss', 6.860133647918701), ('feats_loss', 40.21193313598633)]\n",
            "3 0 [('loss', 24.91925048828125), ('head_loss', 30.496572494506836), ('deprel_loss', 10.953168869018555), ('lemma_loss', 2.560922384262085), ('upostag_loss', 8.273530006408691), ('feats_loss', 47.489994049072266)]\n",
            "3 1 [('loss', 20.241804122924805), ('head_loss', 22.684593200683594), ('deprel_loss', 9.084737777709961), ('lemma_loss', 2.0280110836029053), ('upostag_loss', 6.830090045928955), ('feats_loss', 39.89069366455078)]\n",
            "3 2 [('loss', 17.116140365600586), ('head_loss', 17.378768920898438), ('deprel_loss', 7.881237983703613), ('lemma_loss', 1.6304657459259033), ('upostag_loss', 5.9749650955200195), ('feats_loss', 34.69835662841797)]\n",
            "3 3 [('loss', 10.842802047729492), ('head_loss', 11.016707420349121), ('deprel_loss', 4.8258256912231445), ('lemma_loss', 0.8080878257751465), ('upostag_loss', 3.72261905670166), ('feats_loss', 22.687740325927734)]\n",
            "3 4 [('loss', 22.286428451538086), ('head_loss', 21.943010330200195), ('deprel_loss', 10.49441146850586), ('lemma_loss', 2.4394471645355225), ('upostag_loss', 7.91515588760376), ('feats_loss', 44.837039947509766)]\n",
            "3 5 [('loss', 23.15582847595215), ('head_loss', 25.52145004272461), ('deprel_loss', 10.653324127197266), ('lemma_loss', 2.11930513381958), ('upostag_loss', 8.02203369140625), ('feats_loss', 45.00973892211914)]\n",
            "3 6 [('loss', 23.72606658935547), ('head_loss', 27.665014266967773), ('deprel_loss', 10.709599494934082), ('lemma_loss', 2.0708138942718506), ('upostag_loss', 8.145369529724121), ('feats_loss', 45.45637893676758)]\n",
            "4 0 [('loss', 18.38968849182129), ('head_loss', 15.58733081817627), ('deprel_loss', 8.839408874511719), ('lemma_loss', 1.8726054430007935), ('upostag_loss', 6.710787773132324), ('feats_loss', 38.77397155761719)]\n",
            "4 1 [('loss', 21.026742935180664), ('head_loss', 17.241701126098633), ('deprel_loss', 10.273578643798828), ('lemma_loss', 2.326326370239258), ('upostag_loss', 7.821759223937988), ('feats_loss', 44.171077728271484)]\n",
            "4 2 [('loss', 21.969938278198242), ('head_loss', 20.248598098754883), ('deprel_loss', 10.513954162597656), ('lemma_loss', 2.0375072956085205), ('upostag_loss', 7.981472015380859), ('feats_loss', 44.93396759033203)]\n",
            "4 3 [('loss', 10.11655044555664), ('head_loss', 7.716066360473633), ('deprel_loss', 4.9047465324401855), ('lemma_loss', 0.7484156489372253), ('upostag_loss', 3.7640933990478516), ('feats_loss', 22.043018341064453)]\n",
            "4 4 [('loss', 15.62319278717041), ('head_loss', 11.143034934997559), ('deprel_loss', 7.714935779571533), ('lemma_loss', 1.4602171182632446), ('upostag_loss', 5.938719272613525), ('feats_loss', 34.18069839477539)]\n",
            "4 5 [('loss', 23.481718063354492), ('head_loss', 23.3659725189209), ('deprel_loss', 10.806660652160645), ('lemma_loss', 1.958498477935791), ('upostag_loss', 8.221171379089355), ('feats_loss', 48.13887023925781)]\n",
            "4 6 [('loss', 21.769603729248047), ('head_loss', 17.106369018554688), ('deprel_loss', 10.690715789794922), ('lemma_loss', 2.16888689994812), ('upostag_loss', 8.12851333618164), ('feats_loss', 46.30406951904297)]\n",
            "UAS: 0.07175107970160974\n",
            "LAS: 0.016882606988614057\n",
            "LEMMA: 0.0\n",
            "POS: 0.267962308598351\n",
            "XPOS: 1.0\n",
            "FEAT: 0.30643894778170394\n",
            "SEM: 1.0\n",
            "EM: 0.0\n",
            "Cycle: -1\n",
            "\n",
            "summary 5 2 0.001 0.0 2021-09-01 03:54:29\n",
            "Train iter 1 2021-09-01 03:54:29\n",
            "0 0 [('loss', 17.727540969848633), ('head_loss', 13.02668571472168), ('deprel_loss', 8.776432037353516), ('lemma_loss', 1.7448049783706665), ('upostag_loss', 6.696784019470215), ('feats_loss', 38.306793212890625)]\n",
            "0 1 [('loss', 20.50918960571289), ('head_loss', 15.224406242370605), ('deprel_loss', 10.2833833694458), ('lemma_loss', 2.1629276275634766), ('upostag_loss', 7.69434928894043), ('feats_loss', 43.630306243896484)]\n",
            "0 2 [('loss', 22.242143630981445), ('head_loss', 22.32649803161621), ('deprel_loss', 10.434310913085938), ('lemma_loss', 1.8675166368484497), ('upostag_loss', 8.014032363891602), ('feats_loss', 44.549617767333984)]\n",
            "0 3 [('loss', 21.62230110168457), ('head_loss', 17.27876853942871), ('deprel_loss', 10.551326751708984), ('lemma_loss', 2.0635690689086914), ('upostag_loss', 7.939935207366943), ('feats_loss', 46.027530670166016)]\n",
            "0 4 [('loss', 15.381958961486816), ('head_loss', 10.64311408996582), ('deprel_loss', 7.582156181335449), ('lemma_loss', 1.3417046070098877), ('upostag_loss', 5.762812614440918), ('feats_loss', 34.07799530029297)]\n",
            "0 5 [('loss', 21.14729881286621), ('head_loss', 18.100454330444336), ('deprel_loss', 10.220558166503906), ('lemma_loss', 1.830223798751831), ('upostag_loss', 7.687663555145264), ('feats_loss', 44.266204833984375)]\n",
            "0 6 [('loss', 9.609037399291992), ('head_loss', 6.3698320388793945), ('deprel_loss', 4.6719279289245605), ('lemma_loss', 0.6520357728004456), ('upostag_loss', 3.5825114250183105), ('feats_loss', 21.84998893737793)]\n",
            "1 0 [('loss', 20.96687889099121), ('head_loss', 17.515470504760742), ('deprel_loss', 10.257928848266602), ('lemma_loss', 1.819007396697998), ('upostag_loss', 7.698728561401367), ('feats_loss', 43.799468994140625)]\n",
            "1 1 [('loss', 17.389759063720703), ('head_loss', 12.030343055725098), ('deprel_loss', 8.7276029586792), ('lemma_loss', 1.6151142120361328), ('upostag_loss', 6.500057220458984), ('feats_loss', 37.890357971191406)]\n",
            "1 2 [('loss', 20.095529556274414), ('head_loss', 14.21109390258789), ('deprel_loss', 10.089717864990234), ('lemma_loss', 2.008063316345215), ('upostag_loss', 7.5588603019714355), ('feats_loss', 43.42190933227539)]\n",
            "1 3 [('loss', 21.85861587524414), ('head_loss', 19.657045364379883), ('deprel_loss', 10.593899726867676), ('lemma_loss', 1.7474327087402344), ('upostag_loss', 7.919506549835205), ('feats_loss', 44.717594146728516)]\n",
            "1 4 [('loss', 9.275882720947266), ('head_loss', 5.557883262634277), ('deprel_loss', 4.581724643707275), ('lemma_loss', 0.6184952259063721), ('upostag_loss', 3.4844346046447754), ('feats_loss', 21.38905906677246)]\n",
            "1 5 [('loss', 14.804386138916016), ('head_loss', 9.443031311035156), ('deprel_loss', 7.468605041503906), ('lemma_loss', 1.2626596689224243), ('upostag_loss', 5.599842548370361), ('feats_loss', 32.903839111328125)]\n",
            "1 6 [('loss', 21.09474754333496), ('head_loss', 15.604146957397461), ('deprel_loss', 10.61605167388916), ('lemma_loss', 1.9235955476760864), ('upostag_loss', 7.83383321762085), ('feats_loss', 44.866859436035156)]\n",
            "2 0 [('loss', 9.196791648864746), ('head_loss', 5.405357360839844), ('deprel_loss', 4.573188781738281), ('lemma_loss', 0.6037889719009399), ('upostag_loss', 3.454183340072632), ('feats_loss', 21.19146156311035)]\n",
            "2 1 [('loss', 17.161325454711914), ('head_loss', 11.316475868225098), ('deprel_loss', 8.694554328918457), ('lemma_loss', 1.5218853950500488), ('upostag_loss', 6.416507244110107), ('feats_loss', 37.638553619384766)]\n",
            "2 2 [('loss', 20.723655700683594), ('head_loss', 16.101259231567383), ('deprel_loss', 10.27904224395752), ('lemma_loss', 1.685684323310852), ('upostag_loss', 7.599428653717041), ('feats_loss', 43.97267532348633)]\n",
            "2 3 [('loss', 21.274654388427734), ('head_loss', 17.81801414489746), ('deprel_loss', 10.499343872070312), ('lemma_loss', 1.654160976409912), ('upostag_loss', 7.791166305541992), ('feats_loss', 44.07365798950195)]\n",
            "2 4 [('loss', 14.613873481750488), ('head_loss', 9.22712230682373), ('deprel_loss', 7.371065139770508), ('lemma_loss', 1.184000015258789), ('upostag_loss', 5.573686122894287), ('feats_loss', 32.58390426635742)]\n",
            "2 5 [('loss', 19.662147521972656), ('head_loss', 13.607463836669922), ('deprel_loss', 9.93150520324707), ('lemma_loss', 1.8433622121810913), ('upostag_loss', 7.346953868865967), ('feats_loss', 42.58666229248047)]\n",
            "2 6 [('loss', 20.7736873626709), ('head_loss', 14.748149871826172), ('deprel_loss', 10.440938949584961), ('lemma_loss', 1.7922426462173462), ('upostag_loss', 7.785861968994141), ('feats_loss', 44.86406707763672)]\n",
            "3 0 [('loss', 20.744783401489258), ('head_loss', 14.864484786987305), ('deprel_loss', 10.371438026428223), ('lemma_loss', 1.7777143716812134), ('upostag_loss', 7.785819053649902), ('feats_loss', 44.88510513305664)]\n",
            "3 1 [('loss', 16.891164779663086), ('head_loss', 11.038846969604492), ('deprel_loss', 8.571976661682129), ('lemma_loss', 1.4298425912857056), ('upostag_loss', 6.350616931915283), ('feats_loss', 37.09592819213867)]\n",
            "3 2 [('loss', 20.423370361328125), ('head_loss', 15.345417976379395), ('deprel_loss', 10.270578384399414), ('lemma_loss', 1.5797085762023926), ('upostag_loss', 7.559142112731934), ('feats_loss', 43.299278259277344)]\n",
            "3 3 [('loss', 19.609827041625977), ('head_loss', 13.435904502868652), ('deprel_loss', 9.903802871704102), ('lemma_loss', 1.7755507230758667), ('upostag_loss', 7.371143341064453), ('feats_loss', 42.6193733215332)]\n",
            "3 4 [('loss', 14.499944686889648), ('head_loss', 8.726797103881836), ('deprel_loss', 7.336215496063232), ('lemma_loss', 1.1249327659606934), ('upostag_loss', 5.452805519104004), ('feats_loss', 32.699893951416016)]\n",
            "3 5 [('loss', 20.9348087310791), ('head_loss', 17.071670532226562), ('deprel_loss', 10.360067367553711), ('lemma_loss', 1.5394645929336548), ('upostag_loss', 7.772806167602539), ('feats_loss', 43.71470260620117)]\n",
            "3 6 [('loss', 8.987775802612305), ('head_loss', 4.864992618560791), ('deprel_loss', 4.56289005279541), ('lemma_loss', 0.5456563234329224), ('upostag_loss', 3.3608450889587402), ('feats_loss', 20.76682472229004)]\n",
            "4 0 [('loss', 16.838712692260742), ('head_loss', 10.840539932250977), ('deprel_loss', 8.564064979553223), ('lemma_loss', 1.3950845003128052), ('upostag_loss', 6.350134372711182), ('feats_loss', 37.07356643676758)]\n",
            "4 1 [('loss', 20.644989013671875), ('head_loss', 14.550262451171875), ('deprel_loss', 10.397785186767578), ('lemma_loss', 1.7079094648361206), ('upostag_loss', 7.704078197479248), ('feats_loss', 44.6348876953125)]\n",
            "4 2 [('loss', 8.909667015075684), ('head_loss', 4.923017978668213), ('deprel_loss', 4.439052104949951), ('lemma_loss', 0.5331975817680359), ('upostag_loss', 3.28971529006958), ('feats_loss', 20.834941864013672)]\n",
            "4 3 [('loss', 20.292802810668945), ('head_loss', 15.35250473022461), ('deprel_loss', 10.15141773223877), ('lemma_loss', 1.5232445001602173), ('upostag_loss', 7.519382476806641), ('feats_loss', 43.142417907714844)]\n",
            "4 4 [('loss', 19.501840591430664), ('head_loss', 13.173912048339844), ('deprel_loss', 9.8829927444458), ('lemma_loss', 1.6964925527572632), ('upostag_loss', 7.370867729187012), ('feats_loss', 42.44609832763672)]\n",
            "4 5 [('loss', 20.871915817260742), ('head_loss', 16.99114990234375), ('deprel_loss', 10.366937637329102), ('lemma_loss', 1.482211947441101), ('upostag_loss', 7.6933979988098145), ('feats_loss', 43.4898796081543)]\n",
            "4 6 [('loss', 14.34961986541748), ('head_loss', 8.673798561096191), ('deprel_loss', 7.2850470542907715), ('lemma_loss', 1.066108226776123), ('upostag_loss', 5.4278340339660645), ('feats_loss', 32.228485107421875)]\n",
            "UAS: 0.06939536709854731\n",
            "LAS: 0.010797016097369454\n",
            "LEMMA: 0.07970160973694543\n",
            "POS: 0.2681586179819395\n",
            "XPOS: 1.0\n",
            "FEAT: 0.30643894778170394\n",
            "SEM: 1.0\n",
            "EM: 0.0\n",
            "Cycle: -1\n",
            "\n",
            "summary 5 2 0.001 0.0 2021-09-01 03:56:00\n",
            "Train iter 2 2021-09-01 03:56:00\n",
            "0 0 [('loss', 19.4407901763916), ('head_loss', 13.072118759155273), ('deprel_loss', 9.879019737243652), ('lemma_loss', 1.6791473627090454), ('upostag_loss', 7.289488315582275), ('feats_loss', 42.28425979614258)]\n",
            "0 1 [('loss', 16.652132034301758), ('head_loss', 10.672261238098145), ('deprel_loss', 8.478633880615234), ('lemma_loss', 1.3117506504058838), ('upostag_loss', 6.205968379974365), ('feats_loss', 36.709312438964844)]\n",
            "0 2 [('loss', 20.515188217163086), ('head_loss', 14.495579719543457), ('deprel_loss', 10.296669960021973), ('lemma_loss', 1.622387409210205), ('upostag_loss', 7.600709915161133), ('feats_loss', 44.494476318359375)]\n",
            "0 3 [('loss', 8.750748634338379), ('head_loss', 4.7110276222229), ('deprel_loss', 4.3970513343811035), ('lemma_loss', 0.5040054321289062), ('upostag_loss', 3.2473697662353516), ('feats_loss', 20.439380645751953)]\n",
            "0 4 [('loss', 14.227923393249512), ('head_loss', 8.534089088439941), ('deprel_loss', 7.197219371795654), ('lemma_loss', 1.0407103300094604), ('upostag_loss', 5.363945007324219), ('feats_loss', 32.134098052978516)]\n",
            "0 5 [('loss', 19.981019973754883), ('head_loss', 15.059028625488281), ('deprel_loss', 9.91292667388916), ('lemma_loss', 1.4254010915756226), ('upostag_loss', 7.384435176849365), ('feats_loss', 42.892127990722656)]\n",
            "0 6 [('loss', 20.52411651611328), ('head_loss', 16.758529663085938), ('deprel_loss', 10.122356414794922), ('lemma_loss', 1.3714922666549683), ('upostag_loss', 7.493926525115967), ('feats_loss', 43.043087005615234)]\n",
            "1 0 [('loss', 14.03154468536377), ('head_loss', 8.457114219665527), ('deprel_loss', 7.08412504196167), ('lemma_loss', 1.010498046875), ('upostag_loss', 5.221563816070557), ('feats_loss', 31.725008010864258)]\n",
            "1 1 [('loss', 20.21867561340332), ('head_loss', 16.8712100982666), ('deprel_loss', 9.867095947265625), ('lemma_loss', 1.334425687789917), ('upostag_loss', 7.21769905090332), ('feats_loss', 42.502952575683594)]\n",
            "1 2 [('loss', 18.881088256835938), ('head_loss', 12.716423988342285), ('deprel_loss', 9.494353294372559), ('lemma_loss', 1.536557912826538), ('upostag_loss', 6.928574562072754), ('feats_loss', 41.50718688964844)]\n",
            "1 3 [('loss', 8.381425857543945), ('head_loss', 4.4147210121154785), ('deprel_loss', 4.165161609649658), ('lemma_loss', 0.4720107913017273), ('upostag_loss', 3.0123655796051025), ('feats_loss', 19.88351058959961)]\n",
            "1 4 [('loss', 19.217866897583008), ('head_loss', 14.525046348571777), ('deprel_loss', 9.38665771484375), ('lemma_loss', 1.3121613264083862), ('upostag_loss', 6.845401763916016), ('feats_loss', 41.878536224365234)]\n",
            "1 5 [('loss', 19.37622833251953), ('head_loss', 13.712081909179688), ('deprel_loss', 9.562094688415527), ('lemma_loss', 1.4351897239685059), ('upostag_loss', 6.772792339324951), ('feats_loss', 42.77519989013672)]\n",
            "1 6 [('loss', 15.613967895507812), ('head_loss', 9.876380920410156), ('deprel_loss', 7.772723197937012), ('lemma_loss', 1.1616460084915161), ('upostag_loss', 5.609771251678467), ('feats_loss', 35.32408142089844)]\n",
            "2 0 [('loss', 19.370033264160156), ('head_loss', 16.18832778930664), ('deprel_loss', 9.336213111877441), ('lemma_loss', 1.2181854248046875), ('upostag_loss', 6.661254405975342), ('feats_loss', 41.22995376586914)]\n",
            "2 1 [('loss', 19.006214141845703), ('head_loss', 13.584199905395508), ('deprel_loss', 9.344318389892578), ('lemma_loss', 1.3610007762908936), ('upostag_loss', 6.718420505523682), ('feats_loss', 41.9546012878418)]\n",
            "2 2 [('loss', 15.382752418518066), ('head_loss', 9.812788963317871), ('deprel_loss', 7.6970534324646), ('lemma_loss', 1.1061532497406006), ('upostag_loss', 5.4791741371154785), ('feats_loss', 34.57966613769531)]\n",
            "2 3 [('loss', 13.169844627380371), ('head_loss', 7.887257099151611), ('deprel_loss', 6.579042434692383), ('lemma_loss', 0.8653457164764404), ('upostag_loss', 4.604476451873779), ('feats_loss', 30.194835662841797)]\n",
            "2 4 [('loss', 17.971845626831055), ('head_loss', 12.12271499633789), ('deprel_loss', 8.96338939666748), ('lemma_loss', 1.3149664402008057), ('upostag_loss', 6.393864154815674), ('feats_loss', 39.863704681396484)]\n",
            "2 5 [('loss', 18.45322036743164), ('head_loss', 14.007475852966309), ('deprel_loss', 8.950425148010254), ('lemma_loss', 1.1319316625595093), ('upostag_loss', 6.443202972412109), ('feats_loss', 40.45737838745117)]\n",
            "2 6 [('loss', 7.912643909454346), ('head_loss', 4.246657371520996), ('deprel_loss', 3.9336915016174316), ('lemma_loss', 0.4042809009552002), ('upostag_loss', 2.8044209480285645), ('feats_loss', 18.69973373413086)]\n",
            "3 0 [('loss', 17.651954650878906), ('head_loss', 12.075092315673828), ('deprel_loss', 8.841757774353027), ('lemma_loss', 1.2429535388946533), ('upostag_loss', 6.350011348724365), ('feats_loss', 38.82587432861328)]\n",
            "3 1 [('loss', 12.775187492370605), ('head_loss', 7.4856672286987305), ('deprel_loss', 6.452420234680176), ('lemma_loss', 0.7902560234069824), ('upostag_loss', 4.576529026031494), ('feats_loss', 29.153545379638672)]\n",
            "3 2 [('loss', 18.28846549987793), ('head_loss', 13.103154182434082), ('deprel_loss', 9.064166069030762), ('lemma_loss', 1.1946744918823242), ('upostag_loss', 6.444207191467285), ('feats_loss', 40.073516845703125)]\n",
            "3 3 [('loss', 18.361751556396484), ('head_loss', 15.338778495788574), ('deprel_loss', 8.91300106048584), ('lemma_loss', 1.0046072006225586), ('upostag_loss', 6.445542812347412), ('feats_loss', 38.83013916015625)]\n",
            "3 4 [('loss', 14.681381225585938), ('head_loss', 9.204859733581543), ('deprel_loss', 7.470097541809082), ('lemma_loss', 0.9471299052238464), ('upostag_loss', 5.182836055755615), ('feats_loss', 32.698978424072266)]\n",
            "3 5 [('loss', 17.725299835205078), ('head_loss', 13.264399528503418), ('deprel_loss', 8.721539497375488), ('lemma_loss', 1.0071396827697754), ('upostag_loss', 6.23689603805542), ('feats_loss', 38.55604934692383)]\n",
            "3 6 [('loss', 7.582731246948242), ('head_loss', 3.6998226642608643), ('deprel_loss', 3.8289806842803955), ('lemma_loss', 0.36250728368759155), ('upostag_loss', 2.739302396774292), ('feats_loss', 18.040462493896484)]\n",
            "4 0 [('loss', 7.5410919189453125), ('head_loss', 3.721303701400757), ('deprel_loss', 3.8234620094299316), ('lemma_loss', 0.36655130982398987), ('upostag_loss', 2.7247748374938965), ('feats_loss', 17.835098266601562)]\n",
            "4 1 [('loss', 12.212478637695312), ('head_loss', 6.992684841156006), ('deprel_loss', 6.172397613525391), ('lemma_loss', 0.72722989320755), ('upostag_loss', 4.458371639251709), ('feats_loss', 27.996002197265625)]\n",
            "4 2 [('loss', 17.649126052856445), ('head_loss', 12.864322662353516), ('deprel_loss', 8.79885482788086), ('lemma_loss', 1.0699195861816406), ('upostag_loss', 6.226924419403076), ('feats_loss', 38.259422302246094)]\n",
            "4 3 [('loss', 16.543319702148438), ('head_loss', 10.917540550231934), ('deprel_loss', 8.389861106872559), ('lemma_loss', 1.0632702112197876), ('upostag_loss', 5.936314105987549), ('feats_loss', 36.39250183105469)]\n",
            "4 4 [('loss', 17.282283782958984), ('head_loss', 13.232589721679688), ('deprel_loss', 8.49797248840332), ('lemma_loss', 0.9283481240272522), ('upostag_loss', 5.953616142272949), ('feats_loss', 37.35467529296875)]\n",
            "4 5 [('loss', 14.001314163208008), ('head_loss', 8.55381965637207), ('deprel_loss', 7.095646381378174), ('lemma_loss', 0.842806339263916), ('upostag_loss', 4.914124965667725), ('feats_loss', 31.53774070739746)]\n",
            "4 6 [('loss', 17.42902374267578), ('head_loss', 15.22488784790039), ('deprel_loss', 8.326744079589844), ('lemma_loss', 0.8593807220458984), ('upostag_loss', 5.934579849243164), ('feats_loss', 36.78460693359375)]\n",
            "UAS: 0.2359638790734197\n",
            "LAS: 0.09314880251276011\n",
            "LEMMA: 0.26501766784452296\n",
            "POS: 0.458578720062819\n",
            "XPOS: 1.0\n",
            "FEAT: 0.2862190812720848\n",
            "SEM: 1.0\n",
            "EM: 0.0\n",
            "Cycle: -1\n",
            "\n",
            "summary 4 2 0.001 0.0356301531213192 2021-09-01 03:57:30\n",
            "Train iter 3 2021-09-01 03:57:30\n",
            "0 0 [('loss', 17.004310607910156), ('head_loss', 11.81749153137207), ('deprel_loss', 8.51602554321289), ('lemma_loss', 1.0023858547210693), ('upostag_loss', 5.9997711181640625), ('feats_loss', 37.285274505615234)]\n",
            "0 1 [('loss', 13.793686866760254), ('head_loss', 8.291228294372559), ('deprel_loss', 6.965342998504639), ('lemma_loss', 0.8050381541252136), ('upostag_loss', 4.869009971618652), ('feats_loss', 31.302732467651367)]\n",
            "0 2 [('loss', 7.141722202301025), ('head_loss', 3.423830509185791), ('deprel_loss', 3.59493088722229), ('lemma_loss', 0.3168925642967224), ('upostag_loss', 2.5390777587890625), ('feats_loss', 17.105314254760742)]\n",
            "0 3 [('loss', 17.33700180053711), ('head_loss', 15.14597225189209), ('deprel_loss', 8.32400894165039), ('lemma_loss', 0.8238683938980103), ('upostag_loss', 5.810123920440674), ('feats_loss', 36.451168060302734)]\n",
            "0 4 [('loss', 11.627518653869629), ('head_loss', 6.457892417907715), ('deprel_loss', 5.883786201477051), ('lemma_loss', 0.6192384362220764), ('upostag_loss', 4.1869988441467285), ('feats_loss', 26.85123634338379)]\n",
            "0 5 [('loss', 16.701231002807617), ('head_loss', 12.47245979309082), ('deprel_loss', 8.302132606506348), ('lemma_loss', 0.8325867652893066), ('upostag_loss', 5.730711936950684), ('feats_loss', 36.068485260009766)]\n",
            "0 6 [('loss', 15.929519653320312), ('head_loss', 10.372990608215332), ('deprel_loss', 8.170406341552734), ('lemma_loss', 0.9117504358291626), ('upostag_loss', 5.618929386138916), ('feats_loss', 34.85869598388672)]\n",
            "1 0 [('loss', 13.468829154968262), ('head_loss', 8.100424766540527), ('deprel_loss', 6.895911693572998), ('lemma_loss', 0.7510342597961426), ('upostag_loss', 4.680551528930664), ('feats_loss', 30.205020904541016)]\n",
            "1 1 [('loss', 6.932849884033203), ('head_loss', 3.209406614303589), ('deprel_loss', 3.5071909427642822), ('lemma_loss', 0.29368671774864197), ('upostag_loss', 2.437081813812256), ('feats_loss', 16.655319213867188)]\n",
            "1 2 [('loss', 16.54265594482422), ('head_loss', 11.68817138671875), ('deprel_loss', 8.232569694519043), ('lemma_loss', 0.9032585024833679), ('upostag_loss', 5.772212505340576), ('feats_loss', 36.31767654418945)]\n",
            "1 3 [('loss', 15.679559707641602), ('head_loss', 10.319473266601562), ('deprel_loss', 7.906874656677246), ('lemma_loss', 0.8570470809936523), ('upostag_loss', 5.483322620391846), ('feats_loss', 34.76290512084961)]\n",
            "1 4 [('loss', 16.148639678955078), ('head_loss', 12.113133430480957), ('deprel_loss', 7.906335353851318), ('lemma_loss', 0.7549822330474854), ('upostag_loss', 5.4042158126831055), ('feats_loss', 35.346832275390625)]\n",
            "1 5 [('loss', 16.524484634399414), ('head_loss', 13.958538055419922), ('deprel_loss', 7.980813980102539), ('lemma_loss', 0.7156420946121216), ('upostag_loss', 5.524575233459473), ('feats_loss', 35.04362487792969)]\n",
            "1 6 [('loss', 11.263286590576172), ('head_loss', 6.177140235900879), ('deprel_loss', 5.7267608642578125), ('lemma_loss', 0.551103949546814), ('upostag_loss', 4.044419765472412), ('feats_loss', 25.988149642944336)]\n",
            "2 0 [('loss', 16.3278751373291), ('head_loss', 14.04891300201416), ('deprel_loss', 7.796609878540039), ('lemma_loss', 0.6876365542411804), ('upostag_loss', 5.586406230926514), ('feats_loss', 34.69697189331055)]\n",
            "2 1 [('loss', 16.081205368041992), ('head_loss', 11.306909561157227), ('deprel_loss', 8.075653076171875), ('lemma_loss', 0.8145971894264221), ('upostag_loss', 5.568314075469971), ('feats_loss', 35.0896110534668)]\n",
            "2 2 [('loss', 15.846109390258789), ('head_loss', 11.925168991088867), ('deprel_loss', 7.79292631149292), ('lemma_loss', 0.7177327275276184), ('upostag_loss', 5.431975364685059), ('feats_loss', 34.475128173828125)]\n",
            "2 3 [('loss', 12.744702339172363), ('head_loss', 7.5005106925964355), ('deprel_loss', 6.4960784912109375), ('lemma_loss', 0.6611164212226868), ('upostag_loss', 4.480096340179443), ('feats_loss', 28.851909637451172)]\n",
            "2 4 [('loss', 10.887081146240234), ('head_loss', 5.663419246673584), ('deprel_loss', 5.606348037719727), ('lemma_loss', 0.5182053446769714), ('upostag_loss', 3.8499724864959717), ('feats_loss', 25.15694808959961)]\n",
            "2 5 [('loss', 14.805273056030273), ('head_loss', 9.350560188293457), ('deprel_loss', 7.500010013580322), ('lemma_loss', 0.761212170124054), ('upostag_loss', 5.267874717712402), ('feats_loss', 33.061126708984375)]\n",
            "2 6 [('loss', 6.5153422355651855), ('head_loss', 2.918252944946289), ('deprel_loss', 3.2863409519195557), ('lemma_loss', 0.24761851131916046), ('upostag_loss', 2.2791621685028076), ('feats_loss', 15.788375854492188)]\n",
            "3 0 [('loss', 15.442873001098633), ('head_loss', 10.695709228515625), ('deprel_loss', 7.684258460998535), ('lemma_loss', 0.7519481182098389), ('upostag_loss', 5.273313522338867), ('feats_loss', 34.16027069091797)]\n",
            "3 1 [('loss', 6.44628381729126), ('head_loss', 2.9459972381591797), ('deprel_loss', 3.252533197402954), ('lemma_loss', 0.24081426858901978), ('upostag_loss', 2.2801268100738525), ('feats_loss', 15.55091667175293)]\n",
            "3 2 [('loss', 16.026412963867188), ('head_loss', 13.625436782836914), ('deprel_loss', 7.794898986816406), ('lemma_loss', 0.6107152104377747), ('upostag_loss', 5.177252769470215), ('feats_loss', 33.731849670410156)]\n",
            "3 3 [('loss', 10.455196380615234), ('head_loss', 5.821535587310791), ('deprel_loss', 5.264922142028809), ('lemma_loss', 0.4740397036075592), ('upostag_loss', 3.6117677688598633), ('feats_loss', 24.27207374572754)]\n",
            "3 4 [('loss', 12.412534713745117), ('head_loss', 7.409395694732666), ('deprel_loss', 6.407011032104492), ('lemma_loss', 0.5863947868347168), ('upostag_loss', 4.247095584869385), ('feats_loss', 27.710609436035156)]\n",
            "3 5 [('loss', 15.158106803894043), ('head_loss', 11.840794563293457), ('deprel_loss', 7.403806686401367), ('lemma_loss', 0.6091853380203247), ('upostag_loss', 4.974763870239258), ('feats_loss', 32.81026840209961)]\n",
            "3 6 [('loss', 14.17940902709961), ('head_loss', 9.101171493530273), ('deprel_loss', 7.2355475425720215), ('lemma_loss', 0.6755623817443848), ('upostag_loss', 4.857216835021973), ('feats_loss', 31.35843276977539)]\n",
            "4 0 [('loss', 6.203608512878418), ('head_loss', 2.680330753326416), ('deprel_loss', 3.1332638263702393), ('lemma_loss', 0.22452566027641296), ('upostag_loss', 2.231229543685913), ('feats_loss', 15.094337463378906)]\n",
            "4 1 [('loss', 14.97079849243164), ('head_loss', 11.65864086151123), ('deprel_loss', 7.40643835067749), ('lemma_loss', 0.6069878339767456), ('upostag_loss', 4.920552730560303), ('feats_loss', 32.05754852294922)]\n",
            "4 2 [('loss', 10.170166015625), ('head_loss', 5.696774959564209), ('deprel_loss', 5.208576202392578), ('lemma_loss', 0.43710824847221375), ('upostag_loss', 3.600923776626587), ('feats_loss', 23.206947326660156)]\n",
            "4 3 [('loss', 15.290782928466797), ('head_loss', 13.824268341064453), ('deprel_loss', 7.321678161621094), ('lemma_loss', 0.5573477745056152), ('upostag_loss', 4.876474857330322), ('feats_loss', 31.832685470581055)]\n",
            "4 4 [('loss', 13.724629402160645), ('head_loss', 8.795475959777832), ('deprel_loss', 7.03132438659668), ('lemma_loss', 0.6385142207145691), ('upostag_loss', 4.612282752990723), ('feats_loss', 30.27521514892578)]\n",
            "4 5 [('loss', 14.509198188781738), ('head_loss', 10.242600440979004), ('deprel_loss', 7.3967390060424805), ('lemma_loss', 0.6421344876289368), ('upostag_loss', 4.808885097503662), ('feats_loss', 31.23194122314453)]\n",
            "4 6 [('loss', 11.618536949157715), ('head_loss', 6.93322229385376), ('deprel_loss', 6.013291358947754), ('lemma_loss', 0.5335720777511597), ('upostag_loss', 3.8804373741149902), ('feats_loss', 25.892486572265625)]\n",
            "UAS: 0.3072241853160581\n",
            "LAS: 0.1571456615626227\n",
            "LEMMA: 0.5091283863368669\n",
            "POS: 0.5909893992932862\n",
            "XPOS: 1.0\n",
            "FEAT: 0.30378877110325875\n",
            "SEM: 1.0\n",
            "EM: 0.0\n",
            "Cycle: -1\n",
            "\n",
            "summary 5 2 0.001 0.09678052610914802 2021-09-01 03:58:59\n",
            "Train iter 4 2021-09-01 03:58:59\n",
            "0 0 [('loss', 11.531414985656738), ('head_loss', 6.823355197906494), ('deprel_loss', 6.000138759613037), ('lemma_loss', 0.525671660900116), ('upostag_loss', 3.8322830200195312), ('feats_loss', 25.632617950439453)]\n",
            "0 1 [('loss', 9.742561340332031), ('head_loss', 5.275681972503662), ('deprel_loss', 5.0690693855285645), ('lemma_loss', 0.4074693024158478), ('upostag_loss', 3.2244603633880615), ('feats_loss', 22.146387100219727)]\n",
            "0 2 [('loss', 14.109574317932129), ('head_loss', 10.24733829498291), ('deprel_loss', 7.195254802703857), ('lemma_loss', 0.5952144861221313), ('upostag_loss', 4.554997444152832), ('feats_loss', 30.10677146911621)]\n",
            "0 3 [('loss', 14.050103187561035), ('head_loss', 11.412877082824707), ('deprel_loss', 6.9609198570251465), ('lemma_loss', 0.5166722536087036), ('upostag_loss', 4.417090892791748), ('feats_loss', 29.623062133789062)]\n",
            "0 4 [('loss', 14.323761940002441), ('head_loss', 13.368521690368652), ('deprel_loss', 6.839808940887451), ('lemma_loss', 0.4923451244831085), ('upostag_loss', 4.4269232749938965), ('feats_loss', 29.500036239624023)]\n",
            "0 5 [('loss', 13.004474639892578), ('head_loss', 8.52936840057373), ('deprel_loss', 6.762217044830322), ('lemma_loss', 0.56416916847229), ('upostag_loss', 4.219200611114502), ('feats_loss', 28.127878189086914)]\n",
            "0 6 [('loss', 5.772365570068359), ('head_loss', 2.6587109565734863), ('deprel_loss', 2.962583065032959), ('lemma_loss', 0.19249752163887024), ('upostag_loss', 1.921180009841919), ('feats_loss', 13.722203254699707)]\n",
            "1 0 [('loss', 14.31149673461914), ('head_loss', 13.624764442443848), ('deprel_loss', 6.783623218536377), ('lemma_loss', 0.4728204011917114), ('upostag_loss', 4.342054843902588), ('feats_loss', 29.430641174316406)]\n",
            "1 1 [('loss', 9.203760147094727), ('head_loss', 4.971705436706543), ('deprel_loss', 4.752655982971191), ('lemma_loss', 0.37869593501091003), ('upostag_loss', 3.0223774909973145), ('feats_loss', 21.07632064819336)]\n",
            "1 2 [('loss', 5.606194019317627), ('head_loss', 2.66227650642395), ('deprel_loss', 2.84600830078125), ('lemma_loss', 0.1869136244058609), ('upostag_loss', 1.9079971313476562), ('feats_loss', 13.357599258422852)]\n",
            "1 3 [('loss', 13.56816291809082), ('head_loss', 11.501803398132324), ('deprel_loss', 6.755513668060303), ('lemma_loss', 0.48267698287963867), ('upostag_loss', 4.191951274871826), ('feats_loss', 28.006139755249023)]\n",
            "1 4 [('loss', 12.556846618652344), ('head_loss', 8.789947509765625), ('deprel_loss', 6.449031352996826), ('lemma_loss', 0.529740571975708), ('upostag_loss', 4.0131754875183105), ('feats_loss', 26.93912696838379)]\n",
            "1 5 [('loss', 13.504277229309082), ('head_loss', 10.132794380187988), ('deprel_loss', 6.932939052581787), ('lemma_loss', 0.5310618877410889), ('upostag_loss', 4.13797664642334), ('feats_loss', 28.358396530151367)]\n",
            "1 6 [('loss', 10.626277923583984), ('head_loss', 6.560231685638428), ('deprel_loss', 5.539766788482666), ('lemma_loss', 0.46386799216270447), ('upostag_loss', 3.423332691192627), ('feats_loss', 23.32245635986328)]\n",
            "2 0 [('loss', 13.095909118652344), ('head_loss', 9.803996086120605), ('deprel_loss', 6.604475498199463), ('lemma_loss', 0.5103158354759216), ('upostag_loss', 4.153928756713867), ('feats_loss', 27.95875358581543)]\n",
            "2 1 [('loss', 12.253832817077637), ('head_loss', 8.588935852050781), ('deprel_loss', 6.2474589347839355), ('lemma_loss', 0.5029357075691223), ('upostag_loss', 3.9472482204437256), ('feats_loss', 26.452381134033203)]\n",
            "2 2 [('loss', 10.490117073059082), ('head_loss', 6.489291667938232), ('deprel_loss', 5.502725601196289), ('lemma_loss', 0.4244864881038666), ('upostag_loss', 3.3601505756378174), ('feats_loss', 22.885282516479492)]\n",
            "2 3 [('loss', 8.89405632019043), ('head_loss', 5.017866611480713), ('deprel_loss', 4.578783988952637), ('lemma_loss', 0.3344636559486389), ('upostag_loss', 2.8764631748199463), ('feats_loss', 20.220951080322266)]\n",
            "2 4 [('loss', 13.539275169372559), ('head_loss', 13.056997299194336), ('deprel_loss', 6.484687805175781), ('lemma_loss', 0.4086742103099823), ('upostag_loss', 3.7859232425689697), ('feats_loss', 27.48163604736328)]\n",
            "2 5 [('loss', 5.417270183563232), ('head_loss', 2.447072982788086), ('deprel_loss', 2.8260505199432373), ('lemma_loss', 0.16887520253658295), ('upostag_loss', 1.7202012538909912), ('feats_loss', 12.755627632141113)]\n",
            "2 6 [('loss', 13.072192192077637), ('head_loss', 11.201602935791016), ('deprel_loss', 6.4890618324279785), ('lemma_loss', 0.419641375541687), ('upostag_loss', 3.7755753993988037), ('feats_loss', 27.00630760192871)]\n",
            "3 0 [('loss', 13.18857479095459), ('head_loss', 12.394875526428223), ('deprel_loss', 6.445586681365967), ('lemma_loss', 0.3827100694179535), ('upostag_loss', 3.806816816329956), ('feats_loss', 26.545429229736328)]\n",
            "3 1 [('loss', 12.51513957977295), ('head_loss', 9.114230155944824), ('deprel_loss', 6.412050724029541), ('lemma_loss', 0.4511885941028595), ('upostag_loss', 3.772179365158081), ('feats_loss', 26.621267318725586)]\n",
            "3 2 [('loss', 8.675999641418457), ('head_loss', 4.697154998779297), ('deprel_loss', 4.511810779571533), ('lemma_loss', 0.3152419626712799), ('upostag_loss', 2.727141857147217), ('feats_loss', 19.758874893188477)]\n",
            "3 3 [('loss', 10.089811325073242), ('head_loss', 6.247748851776123), ('deprel_loss', 5.292891502380371), ('lemma_loss', 0.40032675862312317), ('upostag_loss', 3.1054012775421143), ('feats_loss', 22.030677795410156)]\n",
            "3 4 [('loss', 11.729244232177734), ('head_loss', 8.070043563842773), ('deprel_loss', 6.096498489379883), ('lemma_loss', 0.44361257553100586), ('upostag_loss', 3.4749295711517334), ('feats_loss', 25.080333709716797)]\n",
            "3 5 [('loss', 12.578991889953613), ('head_loss', 10.68614387512207), ('deprel_loss', 6.249264240264893), ('lemma_loss', 0.3834701478481293), ('upostag_loss', 3.655815362930298), ('feats_loss', 26.050195693969727)]\n",
            "3 6 [('loss', 5.166773319244385), ('head_loss', 2.283302068710327), ('deprel_loss', 2.669588804244995), ('lemma_loss', 0.1543285995721817), ('upostag_loss', 1.6656296253204346), ('feats_loss', 12.307103157043457)]\n",
            "4 0 [('loss', 11.646109580993652), ('head_loss', 8.054105758666992), ('deprel_loss', 5.999021530151367), ('lemma_loss', 0.436801940202713), ('upostag_loss', 3.4613428115844727), ('feats_loss', 25.074535369873047)]\n",
            "4 1 [('loss', 12.13752269744873), ('head_loss', 9.312873840332031), ('deprel_loss', 6.006381511688232), ('lemma_loss', 0.4196036458015442), ('upostag_loss', 3.621561050415039), ('feats_loss', 26.199081420898438)]\n",
            "4 2 [('loss', 8.452704429626465), ('head_loss', 4.3843584060668945), ('deprel_loss', 4.420220851898193), ('lemma_loss', 0.29757145047187805), ('upostag_loss', 2.606518268585205), ('feats_loss', 19.353309631347656)]\n",
            "4 3 [('loss', 9.819561958312988), ('head_loss', 5.843560218811035), ('deprel_loss', 5.1177496910095215), ('lemma_loss', 0.36633697152137756), ('upostag_loss', 2.9800219535827637), ('feats_loss', 21.82107162475586)]\n",
            "4 4 [('loss', 5.1422319412231445), ('head_loss', 2.175638437271118), ('deprel_loss', 2.6688501834869385), ('lemma_loss', 0.14661309123039246), ('upostag_loss', 1.5832650661468506), ('feats_loss', 12.315807342529297)]\n",
            "4 5 [('loss', 12.850778579711914), ('head_loss', 12.916387557983398), ('deprel_loss', 6.076570510864258), ('lemma_loss', 0.34037286043167114), ('upostag_loss', 3.589890956878662), ('feats_loss', 25.86815643310547)]\n",
            "4 6 [('loss', 12.361764907836914), ('head_loss', 10.4700927734375), ('deprel_loss', 6.141918659210205), ('lemma_loss', 0.3569679856300354), ('upostag_loss', 3.5017993450164795), ('feats_loss', 25.651092529296875)]\n",
            "UAS: 0.41401648998822144\n",
            "LAS: 0.23989006674519042\n",
            "LEMMA: 0.6996466431095406\n",
            "POS: 0.6738319591676483\n",
            "XPOS: 1.0\n",
            "FEAT: 0.3669022379269729\n",
            "SEM: 1.0\n",
            "EM: 0.0\n",
            "Cycle: -1\n",
            "\n",
            "summary 5 2 0.001 0.18021201413427562 2021-09-01 04:00:26\n",
            "Train iter 5 2021-09-01 04:00:26\n",
            "0 0 [('loss', 11.942533493041992), ('head_loss', 8.853575706481934), ('deprel_loss', 6.022896766662598), ('lemma_loss', 0.4248995780944824), ('upostag_loss', 3.494009256362915), ('feats_loss', 25.645362854003906)]\n",
            "0 1 [('loss', 5.086585998535156), ('head_loss', 2.322328805923462), ('deprel_loss', 2.615684986114502), ('lemma_loss', 0.15369462966918945), ('upostag_loss', 1.5351375341415405), ('feats_loss', 12.112411499023438)]\n",
            "0 2 [('loss', 12.673361778259277), ('head_loss', 12.15384292602539), ('deprel_loss', 6.080886363983154), ('lemma_loss', 0.43595704436302185), ('upostag_loss', 3.473475456237793), ('feats_loss', 25.728578567504883)]\n",
            "0 3 [('loss', 11.161646842956543), ('head_loss', 7.8125386238098145), ('deprel_loss', 5.696804523468018), ('lemma_loss', 0.3941454291343689), ('upostag_loss', 3.249438524246216), ('feats_loss', 24.1617374420166)]\n",
            "0 4 [('loss', 9.670561790466309), ('head_loss', 5.848600387573242), ('deprel_loss', 5.019631385803223), ('lemma_loss', 0.4505024254322052), ('upostag_loss', 2.87648606300354), ('feats_loss', 21.46550178527832)]\n",
            "0 5 [('loss', 12.07137680053711), ('head_loss', 10.428266525268555), ('deprel_loss', 5.888949394226074), ('lemma_loss', 0.36855563521385193), ('upostag_loss', 3.3075497150421143), ('feats_loss', 25.295673370361328)]\n",
            "0 6 [('loss', 8.265328407287598), ('head_loss', 4.3284525871276855), ('deprel_loss', 4.3229827880859375), ('lemma_loss', 0.289542555809021), ('upostag_loss', 2.5281991958618164), ('feats_loss', 18.879188537597656)]\n",
            "1 0 [('loss', 5.015944004058838), ('head_loss', 2.1294186115264893), ('deprel_loss', 2.626481294631958), ('lemma_loss', 0.16569571197032928), ('upostag_loss', 1.5307003259658813), ('feats_loss', 11.905255317687988)]\n",
            "1 1 [('loss', 11.20586109161377), ('head_loss', 7.730712413787842), ('deprel_loss', 5.807009696960449), ('lemma_loss', 0.5373486280441284), ('upostag_loss', 3.1601321697235107), ('feats_loss', 24.00901222229004)]\n",
            "1 2 [('loss', 11.966276168823242), ('head_loss', 10.273801803588867), ('deprel_loss', 5.972409248352051), ('lemma_loss', 0.36051687598228455), ('upostag_loss', 3.16550350189209), ('feats_loss', 24.627363204956055)]\n",
            "1 3 [('loss', 11.669166564941406), ('head_loss', 8.774979591369629), ('deprel_loss', 5.95673942565918), ('lemma_loss', 0.42306673526763916), ('upostag_loss', 3.2389063835144043), ('feats_loss', 24.68231773376465)]\n",
            "1 4 [('loss', 7.96731424331665), ('head_loss', 4.111921310424805), ('deprel_loss', 4.190211772918701), ('lemma_loss', 0.3221896290779114), ('upostag_loss', 2.438056707382202), ('feats_loss', 18.14944839477539)]\n",
            "1 5 [('loss', 12.370421409606934), ('head_loss', 12.100372314453125), ('deprel_loss', 5.960662364959717), ('lemma_loss', 0.39800894260406494), ('upostag_loss', 3.2932589054107666), ('feats_loss', 24.798646926879883)]\n",
            "1 6 [('loss', 9.293596267700195), ('head_loss', 5.711495876312256), ('deprel_loss', 4.827676296234131), ('lemma_loss', 0.3444634974002838), ('upostag_loss', 2.7705066204071045), ('feats_loss', 20.53563117980957)]\n",
            "2 0 [('loss', 10.767881393432617), ('head_loss', 7.416287422180176), ('deprel_loss', 5.546597957611084), ('lemma_loss', 0.4018391966819763), ('upostag_loss', 3.0568974018096924), ('feats_loss', 23.2325382232666)]\n",
            "2 1 [('loss', 11.576454162597656), ('head_loss', 9.7613525390625), ('deprel_loss', 5.739943981170654), ('lemma_loss', 0.3673517107963562), ('upostag_loss', 3.1068897247314453), ('feats_loss', 24.130390167236328)]\n",
            "2 2 [('loss', 4.821772575378418), ('head_loss', 2.0598268508911133), ('deprel_loss', 2.47812557220459), ('lemma_loss', 0.14526322484016418), ('upostag_loss', 1.4784647226333618), ('feats_loss', 11.612815856933594)]\n",
            "2 3 [('loss', 12.041622161865234), ('head_loss', 11.678396224975586), ('deprel_loss', 5.778436660766602), ('lemma_loss', 0.3339165151119232), ('upostag_loss', 3.144573211669922), ('feats_loss', 24.355710983276367)]\n",
            "2 4 [('loss', 11.277587890625), ('head_loss', 8.500781059265137), ('deprel_loss', 5.611947536468506), ('lemma_loss', 0.37550196051597595), ('upostag_loss', 3.0573747158050537), ('feats_loss', 24.431076049804688)]\n",
            "2 5 [('loss', 7.747287750244141), ('head_loss', 3.9886341094970703), ('deprel_loss', 4.015527248382568), ('lemma_loss', 0.26170775294303894), ('upostag_loss', 2.250249147415161), ('feats_loss', 17.93067741394043)]\n",
            "2 6 [('loss', 9.102341651916504), ('head_loss', 5.430469989776611), ('deprel_loss', 4.750572681427002), ('lemma_loss', 0.3426753878593445), ('upostag_loss', 2.610612392425537), ('feats_loss', 20.20689582824707)]\n",
            "3 0 [('loss', 11.310805320739746), ('head_loss', 8.489123344421387), ('deprel_loss', 5.661570072174072), ('lemma_loss', 0.381070077419281), ('upostag_loss', 3.0243191719055176), ('feats_loss', 24.41676139831543)]\n",
            "3 1 [('loss', 8.970569610595703), ('head_loss', 5.3069939613342285), ('deprel_loss', 4.659970760345459), ('lemma_loss', 0.32384973764419556), ('upostag_loss', 2.5134260654449463), ('feats_loss', 20.062332153320312)]\n",
            "3 2 [('loss', 11.326567649841309), ('head_loss', 9.488118171691895), ('deprel_loss', 5.5823774337768555), ('lemma_loss', 0.3200543224811554), ('upostag_loss', 3.030210494995117), ('feats_loss', 23.81254005432129)]\n",
            "3 3 [('loss', 4.704963207244873), ('head_loss', 2.0429131984710693), ('deprel_loss', 2.393312454223633), ('lemma_loss', 0.13254471123218536), ('upostag_loss', 1.4023607969284058), ('feats_loss', 11.404958724975586)]\n",
            "3 4 [('loss', 10.562051773071289), ('head_loss', 7.1884942054748535), ('deprel_loss', 5.411919116973877), ('lemma_loss', 0.3720156252384186), ('upostag_loss', 3.0517945289611816), ('feats_loss', 22.975343704223633)]\n",
            "3 5 [('loss', 7.737504959106445), ('head_loss', 4.0367536544799805), ('deprel_loss', 3.9973337650299072), ('lemma_loss', 0.249328151345253), ('upostag_loss', 2.3341403007507324), ('feats_loss', 17.88667869567871)]\n",
            "3 6 [('loss', 11.714356422424316), ('head_loss', 11.365962028503418), ('deprel_loss', 5.545604228973389), ('lemma_loss', 0.2951013743877411), ('upostag_loss', 2.9198012351989746), ('feats_loss', 24.02527618408203)]\n",
            "4 0 [('loss', 10.296290397644043), ('head_loss', 7.018808841705322), ('deprel_loss', 5.20644998550415), ('lemma_loss', 0.35275962948799133), ('upostag_loss', 2.8194425106048584), ('feats_loss', 22.699474334716797)]\n",
            "4 1 [('loss', 7.51828145980835), ('head_loss', 3.8311901092529297), ('deprel_loss', 3.8579323291778564), ('lemma_loss', 0.244415745139122), ('upostag_loss', 2.191539764404297), ('feats_loss', 17.589536666870117)]\n",
            "4 2 [('loss', 11.701354026794434), ('head_loss', 11.396846771240234), ('deprel_loss', 5.493772506713867), ('lemma_loss', 0.28699806332588196), ('upostag_loss', 2.933042049407959), ('feats_loss', 24.133689880371094)]\n",
            "4 3 [('loss', 8.847442626953125), ('head_loss', 5.184444427490234), ('deprel_loss', 4.62891960144043), ('lemma_loss', 0.3002825081348419), ('upostag_loss', 2.4331564903259277), ('feats_loss', 19.71627426147461)]\n",
            "4 4 [('loss', 10.847107887268066), ('head_loss', 7.886385917663574), ('deprel_loss', 5.428671836853027), ('lemma_loss', 0.3297577500343323), ('upostag_loss', 2.9750068187713623), ('feats_loss', 23.653263092041016)]\n",
            "4 5 [('loss', 4.654221057891846), ('head_loss', 2.001605987548828), ('deprel_loss', 2.37843918800354), ('lemma_loss', 0.12031620740890503), ('upostag_loss', 1.346076250076294), ('feats_loss', 11.266462326049805)]\n",
            "4 6 [('loss', 11.067838668823242), ('head_loss', 9.313298225402832), ('deprel_loss', 5.428553581237793), ('lemma_loss', 0.28975337743759155), ('upostag_loss', 2.9770772457122803), ('feats_loss', 23.324954986572266)]\n",
            "UAS: 0.4502355712603062\n",
            "LAS: 0.2947585394581861\n",
            "LEMMA: 0.7528464860620337\n",
            "POS: 0.7324303101688261\n",
            "XPOS: 1.0\n",
            "FEAT: 0.39016489988221437\n",
            "SEM: 1.0\n",
            "EM: 0.0\n",
            "Cycle: -1\n",
            "\n",
            "summary 5 2 0.001 0.23959560266980762 2021-09-01 04:01:56\n",
            "Finished training 2021-09-01 04:01:56\n",
            "Model: \"model_2\"\n",
            "__________________________________________________________________________________________________\n",
            "Layer (type)                    Output Shape         Param #     Connected to                     \n",
            "==================================================================================================\n",
            "input_1 (InputLayer)            [(None, None)]       0                                            \n",
            "__________________________________________________________________________________________________\n",
            "embedding (Embedding)           (None, None, 100)    544900      input_1[0][0]                    \n",
            "__________________________________________________________________________________________________\n",
            "input_2 (InputLayer)            [(None, None, 32)]   0                                            \n",
            "__________________________________________________________________________________________________\n",
            "dense (Dense)                   (None, None, 100)    10100       embedding[0][0]                  \n",
            "__________________________________________________________________________________________________\n",
            "masking (Masking)               (None, None, 32)     0           input_2[0][0]                    \n",
            "__________________________________________________________________________________________________\n",
            "dropout (Dropout)               (None, None, 100)    0           dense[0][0]                      \n",
            "__________________________________________________________________________________________________\n",
            "time_distributed (TimeDistribut (None, None, 64)     550016      masking[0][0]                    \n",
            "__________________________________________________________________________________________________\n",
            "concatenate (Concatenate)       (None, None, 164)    0           dropout[0][0]                    \n",
            "                                                                 time_distributed[0][0]           \n",
            "__________________________________________________________________________________________________\n",
            "gaussian_dropout (GaussianDropo (None, None, 164)    0           concatenate[0][0]                \n",
            "__________________________________________________________________________________________________\n",
            "gaussian_noise (GaussianNoise)  (None, None, 164)    0           gaussian_dropout[0][0]           \n",
            "__________________________________________________________________________________________________\n",
            "bidirectional (Bidirectional)   (None, None, 1024)   2772992     gaussian_noise[0][0]             \n",
            "__________________________________________________________________________________________________\n",
            "gaussian_dropout_1 (GaussianDro (None, None, 1024)   0           bidirectional[0][0]              \n",
            "__________________________________________________________________________________________________\n",
            "gaussian_noise_1 (GaussianNoise (None, None, 1024)   0           gaussian_dropout_1[0][0]         \n",
            "__________________________________________________________________________________________________\n",
            "bidirectional_1 (Bidirectional) (None, None, 1024)   6295552     gaussian_noise_1[0][0]           \n",
            "__________________________________________________________________________________________________\n",
            "gaussian_dropout_2 (GaussianDro (None, None, 1024)   0           bidirectional_1[0][0]            \n",
            "__________________________________________________________________________________________________\n",
            "gaussian_noise_2 (GaussianNoise (None, None, 1024)   0           gaussian_dropout_2[0][0]         \n",
            "__________________________________________________________________________________________________\n",
            "dense_1 (Dense)                 (None, None, 512)    524800      gaussian_noise_2[0][0]           \n",
            "__________________________________________________________________________________________________\n",
            "dense_2 (Dense)                 (None, None, 512)    524800      gaussian_noise_2[0][0]           \n",
            "__________________________________________________________________________________________________\n",
            "dropout_1 (Dropout)             (None, None, 512)    0           dense_1[0][0]                    \n",
            "__________________________________________________________________________________________________\n",
            "dropout_2 (Dropout)             (None, None, 512)    0           dense_2[0][0]                    \n",
            "__________________________________________________________________________________________________\n",
            "dense_4 (Dense)                 (None, None, 128)    131200      gaussian_noise_2[0][0]           \n",
            "__________________________________________________________________________________________________\n",
            "dot (Dot)                       (None, None, None)   0           dropout_1[0][0]                  \n",
            "                                                                 dropout_2[0][0]                  \n",
            "__________________________________________________________________________________________________\n",
            "dropout_4 (Dropout)             (None, None, 128)    0           dense_4[0][0]                    \n",
            "__________________________________________________________________________________________________\n",
            "head (Activation)               (None, None, None)   0           dot[0][0]                        \n",
            "__________________________________________________________________________________________________\n",
            "lambda (Lambda)                 (None, 128, None)    0           dropout_4[0][0]                  \n",
            "__________________________________________________________________________________________________\n",
            "dense_3 (Dense)                 (None, None, 128)    131200      gaussian_noise_2[0][0]           \n",
            "__________________________________________________________________________________________________\n",
            "dot_1 (Dot)                     (None, None, 128)    0           head[0][0]                       \n",
            "                                                                 lambda[0][0]                     \n",
            "__________________________________________________________________________________________________\n",
            "dropout_3 (Dropout)             (None, None, 128)    0           dense_3[0][0]                    \n",
            "__________________________________________________________________________________________________\n",
            "dense_7 (Dense)                 (None, None, 64)     65600       gaussian_noise_2[0][0]           \n",
            "__________________________________________________________________________________________________\n",
            "concatenate_1 (Concatenate)     (None, None, 256)    0           dot_1[0][0]                      \n",
            "                                                                 dropout_3[0][0]                  \n",
            "__________________________________________________________________________________________________\n",
            "dropout_7 (Dropout)             (None, None, 64)     0           dense_7[0][0]                    \n",
            "__________________________________________________________________________________________________\n",
            "dense_9 (Dense)                 (None, None, 128)    131200      gaussian_noise_2[0][0]           \n",
            "__________________________________________________________________________________________________\n",
            "dense_5 (Dense)                 (None, None, 56)     14392       concatenate_1[0][0]              \n",
            "__________________________________________________________________________________________________\n",
            "dense_8 (Dense)                 (None, None, 19)     1235        dropout_7[0][0]                  \n",
            "__________________________________________________________________________________________________\n",
            "dropout_9 (Dropout)             (None, None, 128)    0           dense_9[0][0]                    \n",
            "__________________________________________________________________________________________________\n",
            "dropout_5 (Dropout)             (None, None, 56)     0           dense_5[0][0]                    \n",
            "__________________________________________________________________________________________________\n",
            "concatenate_3 (Concatenate)     (None, None, 1056)   0           input_2[0][0]                    \n",
            "                                                                 gaussian_noise_2[0][0]           \n",
            "__________________________________________________________________________________________________\n",
            "dropout_8 (Dropout)             (None, None, 19)     0           dense_8[0][0]                    \n",
            "__________________________________________________________________________________________________\n",
            "dense_10 (Dense)                (None, None, 137)    17673       dropout_9[0][0]                  \n",
            "__________________________________________________________________________________________________\n",
            "deprel (Activation)             (None, None, 56)     0           dropout_5[0][0]                  \n",
            "__________________________________________________________________________________________________\n",
            "lemma (TimeDistributed)         (None, None, 32, 126 714398      concatenate_3[0][0]              \n",
            "__________________________________________________________________________________________________\n",
            "upostag (Activation)            (None, None, 19)     0           dropout_8[0][0]                  \n",
            "__________________________________________________________________________________________________\n",
            "feats (Dropout)                 (None, None, 137)    0           dense_10[0][0]                   \n",
            "==================================================================================================\n",
            "Total params: 12,430,058\n",
            "Trainable params: 12,430,058\n",
            "Non-trainable params: 0\n",
            "__________________________________________________________________________________________________\n",
            "[0.0, 0.0, 0.0356301531213192, 0.09678052610914802, 0.18021201413427562, 0.23959560266980762]\n",
            "Save model 2021-09-01 04:01:56\n"
          ]
        }
      ]
    },
    {
      "cell_type": "code",
      "metadata": {
        "colab": {
          "base_uri": "https://localhost:8080/"
        },
        "id": "0nyE4A0AVnK0",
        "outputId": "944225f8-d997-4d95-cbe9-33db29e3bd54"
      },
      "source": [
        "%cd .."
      ],
      "execution_count": 12,
      "outputs": [
        {
          "output_type": "stream",
          "name": "stdout",
          "text": [
            "/content/gdrive/My Drive/code/vortan/End-to-end-Parser\n"
          ]
        }
      ]
    },
    {
      "cell_type": "code",
      "metadata": {
        "colab": {
          "base_uri": "https://localhost:8080/"
        },
        "id": "JFLgpC51Vqov",
        "outputId": "c3c04b5c-6fee-40e0-ddac-9f8a92905555"
      },
      "source": [
        "pip install fire"
      ],
      "execution_count": 13,
      "outputs": [
        {
          "output_type": "stream",
          "name": "stdout",
          "text": [
            "Collecting fire\n",
            "  Downloading fire-0.4.0.tar.gz (87 kB)\n",
            "\u001b[?25l\r\u001b[K     |███▊                            | 10 kB 19.3 MB/s eta 0:00:01\r\u001b[K     |███████▌                        | 20 kB 25.1 MB/s eta 0:00:01\r\u001b[K     |███████████▏                    | 30 kB 13.0 MB/s eta 0:00:01\r\u001b[K     |███████████████                 | 40 kB 9.7 MB/s eta 0:00:01\r\u001b[K     |██████████████████▊             | 51 kB 5.2 MB/s eta 0:00:01\r\u001b[K     |██████████████████████▍         | 61 kB 5.3 MB/s eta 0:00:01\r\u001b[K     |██████████████████████████▏     | 71 kB 5.9 MB/s eta 0:00:01\r\u001b[K     |██████████████████████████████  | 81 kB 6.5 MB/s eta 0:00:01\r\u001b[K     |████████████████████████████████| 87 kB 3.3 MB/s \n",
            "\u001b[?25hRequirement already satisfied: six in /usr/local/lib/python3.7/dist-packages (from fire) (1.15.0)\n",
            "Requirement already satisfied: termcolor in /usr/local/lib/python3.7/dist-packages (from fire) (1.1.0)\n",
            "Building wheels for collected packages: fire\n",
            "  Building wheel for fire (setup.py) ... \u001b[?25l\u001b[?25hdone\n",
            "  Created wheel for fire: filename=fire-0.4.0-py2.py3-none-any.whl size=115943 sha256=e0027303828e1f80db235d57144e7e52e5d01063911551fa072faa0988590b19\n",
            "  Stored in directory: /root/.cache/pip/wheels/8a/67/fb/2e8a12fa16661b9d5af1f654bd199366799740a85c64981226\n",
            "Successfully built fire\n",
            "Installing collected packages: fire\n",
            "Successfully installed fire-0.4.0\n"
          ]
        }
      ]
    },
    {
      "cell_type": "code",
      "metadata": {
        "colab": {
          "base_uri": "https://localhost:8080/"
        },
        "id": "nJCPvTL4JdYX",
        "outputId": "259d2a7c-9544-45b0-8146-3473ac8f09ed"
      },
      "source": [
        "! python3 predict.py COMBO/souren_model.pkl --input_path test_text.txt --output_path test_out.txt"
      ],
      "execution_count": 14,
      "outputs": [
        {
          "output_type": "stream",
          "name": "stdout",
          "text": [
            "2021-09-01 04:07:37.071463: I tensorflow/stream_executor/cuda/cuda_gpu_executor.cc:937] successful NUMA node read from SysFS had negative value (-1), but there must be at least one NUMA node, so returning NUMA node zero\n",
            "2021-09-01 04:07:37.083597: I tensorflow/stream_executor/cuda/cuda_gpu_executor.cc:937] successful NUMA node read from SysFS had negative value (-1), but there must be at least one NUMA node, so returning NUMA node zero\n",
            "2021-09-01 04:07:37.084424: I tensorflow/stream_executor/cuda/cuda_gpu_executor.cc:937] successful NUMA node read from SysFS had negative value (-1), but there must be at least one NUMA node, so returning NUMA node zero\n",
            "2021-09-01 04:07:37.085695: I tensorflow/stream_executor/cuda/cuda_gpu_executor.cc:937] successful NUMA node read from SysFS had negative value (-1), but there must be at least one NUMA node, so returning NUMA node zero\n",
            "2021-09-01 04:07:37.086452: I tensorflow/stream_executor/cuda/cuda_gpu_executor.cc:937] successful NUMA node read from SysFS had negative value (-1), but there must be at least one NUMA node, so returning NUMA node zero\n",
            "2021-09-01 04:07:37.087159: I tensorflow/stream_executor/cuda/cuda_gpu_executor.cc:937] successful NUMA node read from SysFS had negative value (-1), but there must be at least one NUMA node, so returning NUMA node zero\n",
            "2021-09-01 04:07:37.597335: I tensorflow/stream_executor/cuda/cuda_gpu_executor.cc:937] successful NUMA node read from SysFS had negative value (-1), but there must be at least one NUMA node, so returning NUMA node zero\n",
            "2021-09-01 04:07:37.598161: I tensorflow/stream_executor/cuda/cuda_gpu_executor.cc:937] successful NUMA node read from SysFS had negative value (-1), but there must be at least one NUMA node, so returning NUMA node zero\n",
            "2021-09-01 04:07:37.598935: I tensorflow/stream_executor/cuda/cuda_gpu_executor.cc:937] successful NUMA node read from SysFS had negative value (-1), but there must be at least one NUMA node, so returning NUMA node zero\n",
            "2021-09-01 04:07:37.599611: W tensorflow/core/common_runtime/gpu/gpu_bfc_allocator.cc:39] Overriding allow_growth setting because the TF_FORCE_GPU_ALLOW_GROWTH environment variable is set. Original config value was 0.\n",
            "2021-09-01 04:07:37.599680: I tensorflow/core/common_runtime/gpu/gpu_device.cc:1510] Created device /job:localhost/replica:0/task:0/device:GPU:0 with 9490 MB memory:  -> device: 0, name: Tesla K80, pci bus id: 0000:00:04.0, compute capability: 3.7\n",
            "/usr/local/lib/python3.7/dist-packages/keras/optimizer_v2/optimizer_v2.py:356: UserWarning: The `lr` argument is deprecated, use `learning_rate` instead.\n",
            "  \"The `lr` argument is deprecated, use `learning_rate` instead.\")\n",
            "2021-09-01 04:07:41.280899: I tensorflow/compiler/mlir/mlir_graph_optimization_pass.cc:185] None of the MLIR Optimization Passes are enabled (registered 2)\n",
            "2021-09-01 04:07:42.189535: I tensorflow/stream_executor/cuda/cuda_dnn.cc:369] Loaded cuDNN version 8004\n"
          ]
        }
      ]
    },
    {
      "cell_type": "code",
      "metadata": {
        "colab": {
          "base_uri": "https://localhost:8080/"
        },
        "id": "CaoKhWz1Vyhu",
        "outputId": "4b311554-6cf6-4337-ae1c-1bde5acc4504"
      },
      "source": [
        "! cat test_out.txt"
      ],
      "execution_count": 16,
      "outputs": [
        {
          "output_type": "stream",
          "name": "stdout",
          "text": [
            "# Իմանալ հանճարների գործը։\n",
            "1\tԻմանալ\tիմանալ\tNOUN\t_\tAnimacy=Nhum|Case=Dat|Definite=Ind|Number=Sing\t2\tnmod:poss\t_\t_\n",
            "2\tհանճարների\tհանճար\tNOUN\t_\tAnimacy=Nhum|Case=Dat|Definite=Def|Number=Sing\t3\tnmod:poss\t_\t_\n",
            "3\tգործը\tգոր\tNOUN\t_\tAnimacy=Nhum|Case=Nom|Definite=Def|Number=Sing\t0\tobl\t_\t_\n",
            "4\t։\t։\tPUNCT\t_\t_\t3\tpunct\t_\t_\n",
            "\n"
          ]
        }
      ]
    },
    {
      "cell_type": "code",
      "metadata": {
        "id": "SkFQXsNzWJ_D"
      },
      "source": [
        ""
      ],
      "execution_count": null,
      "outputs": []
    }
  ]
}